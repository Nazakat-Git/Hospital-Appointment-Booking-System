{
 "cells": [
  {
   "cell_type": "markdown",
   "id": "bb1392a9-9c56-40c5-9d97-d3f3c8ce5765",
   "metadata": {},
   "source": [
    "# SRH Hospital Appointment Booking System\n",
    "\n",
    "I used the name 'SRH' because I did not want to use any other name due to copyright issues. I am a student at SRH university so taking the leverage of using the university's name :)\n",
    "\n",
    "## Please not I have used patient numbers range from T1000 - T2499 so when entering patient number please use valid number within the range :)"
   ]
  },
  {
   "cell_type": "code",
   "execution_count": 73,
   "id": "7f987806-0130-4d96-b911-88c6f3ce5c85",
   "metadata": {},
   "outputs": [],
   "source": [
    "# Installation to ensures required library is/are available\n",
    "\n",
    "!pip install ipywidgets --quiet"
   ]
  },
  {
   "cell_type": "markdown",
   "id": "72cc2f8f-a9f5-4047-822a-0b611520f492",
   "metadata": {},
   "source": [
    "# Section 1: Libraries and Widgets\n",
    "\n",
    "    - Importing necessary Python libraries and setting up widgets\n",
    "    - Required for building the interactive interface\n"
   ]
  },
  {
   "cell_type": "code",
   "execution_count": 63,
   "id": "9ed6820b-0860-4298-ab53-6864e007eb65",
   "metadata": {
    "scrolled": true
   },
   "outputs": [],
   "source": [
    "import ipywidgets as widgets\n",
    "import datetime\n",
    "from ipywidgets import Button, Output\n",
    "from IPython.display import display\n",
    "from datetime import timedelta\n",
    "#patient number input widget\n",
    "patient_number_input = widgets.Text(\n",
    "    placeholder='Enter patient number',\n",
    "    style={'description_width': 'initial'}\n",
    ")"
   ]
  },
  {
   "cell_type": "markdown",
   "id": "249bf977-2fe1-4b9d-9d13-fb7b23b6e914",
   "metadata": {},
   "source": [
    "# Section 2: Initiation\n",
    "\n",
    "    - Definining range for patient numbers to be used in the input widget.\n",
    "\n",
    "### Challenges\n",
    "\n",
    "    - Capital 'T' which appears in front of the patient number (different hospitals use this letter as an indication of hospital number, trust number, or clinic number — in this case, it refers to trust number as a lot of hospitals work under trusts or operate as a trust). So, I had to make it not a case-sensitive letter in case the patient enters the right number but doesn't capitalise 't', it should still work and not show an invalid message. (section 7 uses .upper()). The idea of introducing patient number into booking system was due to patient confidentiality."
   ]
  },
  {
   "cell_type": "code",
   "execution_count": 64,
   "id": "30bbe713-1bca-4d0a-964a-f4f19b67b058",
   "metadata": {},
   "outputs": [],
   "source": [
    "#patient number range (more than 2000 appointments are available per year but I have added 1500 considering sicknesses or cancellations)\n",
    "valid_patient_numbers = [f'T{str(i).zfill(3)}' for i in range(1000, 2500)]\n",
    "\n",
    "suppress_speciality_observer = False"
   ]
  },
  {
   "cell_type": "markdown",
   "id": "c4afd35b-fdf9-46b8-8d43-56838a40d58e",
   "metadata": {},
   "source": [
    "# Section 3: Buttons - Booking & Confirmation\n",
    "\n",
    "    - Defining and styling buttons for booking appointments and confirmation (confirm/cancel)."
   ]
  },
  {
   "cell_type": "code",
   "execution_count": 65,
   "id": "12eb6f87-e0b7-4ce1-9ba0-58cfd525daae",
   "metadata": {},
   "outputs": [],
   "source": [
    "#setup book button\n",
    "book_button= Button(description = 'Book')\n",
    "book_button.style.button_color = 'grey'\n",
    "\n",
    "# creating output for patient appointment status message\n",
    "output_patient_status = Output()\n",
    "\n",
    "# definining input section\n",
    "input_section = widgets.VBox([widgets.HBox([patient_number_input, book_button]), output_patient_status])\n",
    "\n",
    "#setup confirm button\n",
    "confirm_button = widgets.Button(description = 'Confirm')\n",
    "confirm_button.style.button_color = 'grey'\n",
    "\n",
    "#setup cancel button\n",
    "cancel_button = widgets.Button(description = 'Cancel')\n",
    "cancel_button.style.button_color = 'grey'\n",
    "\n",
    "#display confirmation buttons horizontally \n",
    "confirmation_buttons = widgets.HBox([confirm_button, cancel_button])"
   ]
  },
  {
   "cell_type": "markdown",
   "id": "1fc1855a-2a6f-4eff-a3dd-1924e8ae7359",
   "metadata": {},
   "source": [
    "# Section 4: Dropdowns - Speciality, Date & Time\n",
    "\n",
    "    - Setting up dropdown widgets to allow users to select medical speciality, appointment date, and time slot.\n",
    "\n",
    "### Challenges\n",
    "\n",
    "    - The speciality dropdown had a problem, it would select the first speciality by default. So, the program wouldn't trigger since the first option was not 'new' selection. I had to include a blank/empty dropdown as the first option, so the user is forced to make a selection every time.\n",
    "    \n",
    "    - I used a dropdown instead of a calendar because I could not limit the calendar to weekdays and the current year. The dropdown only shows weekdays and the current year. Similary, I used dropdown for time to limit the time to 9 to 5.\n",
    "\n",
    "    - Defining which specialities to include was initially a challenge. Eventually, I added 5 example specialities—these are arbitrary and can be customised as needed by healthcare provider. This is not a technical challenge, but a design note."
   ]
  },
  {
   "cell_type": "code",
   "execution_count": 66,
   "id": "30f72c9a-f3c0-471a-b91d-eae6e4cf6a8e",
   "metadata": {},
   "outputs": [],
   "source": [
    "# add specialities picker dropdown\n",
    "speciality_selection = widgets.Dropdown(\n",
    "    options = ['','Surgical', 'Endocrinology', 'Neurology', 'Dental', 'Oncology'])\n",
    "\n",
    "# add date picker dropdown\n",
    "date_selection = widgets.Dropdown(options = [], description = 'Select a date')\n",
    "\n",
    "# add time picker dropdown\n",
    "time_selection = widgets.Dropdown(options= [], description = 'Select a time')"
   ]
  },
  {
   "cell_type": "markdown",
   "id": "f0ba3641-2839-4123-9aa6-935583e5f713",
   "metadata": {},
   "source": [
    "# Section 5: Output Placeholders for Dynamic Display\n",
    "\n",
    "    - Setting up outputs to dynamically display messages, instructions, and confirmation prompts.\n",
    "\n",
    "### Challenges\n",
    "\n",
    "    - Even though the booking process is intuitive, I added instructions with each input to guide the user step-by-step. For example, after entering the patient number, user is instructed to select a speciality through a printed message."
   ]
  },
  {
   "cell_type": "code",
   "execution_count": 67,
   "id": "18831c2e-959b-4d32-a098-50472ac300b5",
   "metadata": {},
   "outputs": [],
   "source": [
    "#outputs placeholders\n",
    "output_speciality= Output()\n",
    "output_date = Output()\n",
    "output_time = Output()\n",
    "output_confirmation = Output()\n",
    "output_confirm = Output()\n",
    "output_cancel= Output()"
   ]
  },
  {
   "cell_type": "markdown",
   "id": "bd638ebf-cc76-4efc-894c-4ba1dbe4dea5",
   "metadata": {},
   "source": [
    "# Section 6: Date and Time Setup\n",
    "\n",
    "    - Defining working days, clinic hours, and mappings between specialities and days for scheduling - working schedule limited to weekdays"
   ]
  },
  {
   "cell_type": "code",
   "execution_count": 68,
   "id": "ab90370b-f0d4-44a0-a0e5-409749189dd0",
   "metadata": {},
   "outputs": [],
   "source": [
    "# add current year\n",
    "current_year = datetime.datetime.now().year\n",
    "start_date = datetime.date(current_year, 1, 1) # defining start date as January first where month comes first in the argument\n",
    "end_date = datetime.date(current_year, 12, 31) # defining end date with month first and date after\n",
    "day_one = timedelta(days=1)\n",
    "\n",
    "# add working days\n",
    "weekdays = []\n",
    "while start_date <= end_date:\n",
    "    if start_date.weekday() < 5:\n",
    "        weekdays.append(start_date)       \n",
    "    start_date += day_one # move forward by one day\n",
    "\n",
    "# add working hours\n",
    "clinic_hours = list(range(9, 17))\n",
    "booked = {} #dictionary to store booked appointments\n",
    "booked_slots = {} # dictionary to store booked time slots\n",
    "\n",
    "# add corresponding days to each specaility\n",
    "corresponding_days_to_speciality = {\n",
    "    0: 'Surgical',                   #Monday\n",
    "    1: 'Endocrinology',              #Tuesday\n",
    "    2: 'Neurology',                  #Wednesday\n",
    "    3: 'Dental',                     #Thursday\n",
    "    4: 'Oncology'                    #Friday\n",
    "}"
   ]
  },
  {
   "cell_type": "markdown",
   "id": "0e639747-38fc-4ae4-9be1-67fdb0284431",
   "metadata": {},
   "source": [
    "# Section 7: Button Click and Option Selection Functions\n",
    "\n",
    "    - Functions to operate when buttons (book, confirm, cancel) clicked and dropdowns (specialities, date, and time) selected - including booking logic, filtering available slots, and displaying options to the user.\n",
    "\n",
    "### Challenges\n",
    "\n",
    "    - When I booked the first patient and tried to book a second one, the speciality dropdown remained on the previous selection. For example, if the first appointment was booked in \"Surgical\", trying to book the second one in 'Surgical' again wouldn’t trigger the date function. But if I picked another speciality like 'Oncology', it worked. To solve this, I implemented a reset function for the speciality selection each time a new patient starts a booking.\n",
    "\n",
    "    - Just like resetting the speciality, I had to reset both the date and time fields. Otherwise, previously selected values would persist, causing logic issues. The patient number field also needed to be reset after a successful booking. Without clearing it, the old number stayed visible. However, I added the patient number to the confirmation message so even after clearing the input, the patient can still see their appointment confirmation details along with patient number.\n",
    "\n",
    "    - I was able to book the same appointment for the same patient multiple times. To prevent this, I added a condition that checks if a patient already has an appointment and displays a message if they do. I was also able to book the same time and date for multiple patients even if it was already taken. To avoid this, I filtered out already booked slots so that they are not available in the dropdown again."
   ]
  },
  {
   "cell_type": "code",
   "execution_count": 69,
   "id": "d01b9ead-9d55-49cd-b4e5-b9830a684f1f",
   "metadata": {},
   "outputs": [],
   "source": [
    "#defining a function when book button is clicked\n",
    "def on_book_click(book):\n",
    "    global suppress_speciality_observer\n",
    "    patient_number = patient_number_input.value.strip().upper()\n",
    "    output_patient_status.clear_output()\n",
    "    output_confirm.clear_output()\n",
    "    with output_patient_status:\n",
    "        if patient_number in booked:\n",
    "            existing_date, existing_time = booked[patient_number]\n",
    "            print(f'You already have an appointment on {existing_date} at {existing_time}:00.')\n",
    "        elif patient_number in valid_patient_numbers:\n",
    "            clear_all()\n",
    "            suppress_speciality_observer = True # stop auto trigger of the function\n",
    "            speciality_selection.value = None #resetting specaility dropdown to empty slot\n",
    "            suppress_speciality_observer = False # allow triggering after resetting\n",
    "            with output_speciality:\n",
    "                print('') # to add space for clear visuals\n",
    "                print('Please select the speciality:')\n",
    "                display(speciality_selection)\n",
    "        else:\n",
    "            print(\"Invalid patient number. Please try again.\")\n",
    "\n",
    "# defining a function when speciality is picked\n",
    "def on_pick_a_speciality(change):\n",
    "# define date selection value\n",
    "    if suppress_speciality_observer:\n",
    "        return\n",
    "    picked_a_speciality = change.new\n",
    "    output_date.clear_output()\n",
    "\n",
    "    if not picked_a_speciality:\n",
    "        return\n",
    "    \n",
    "    #Filter available days for the corresponding speciality\n",
    "    matching_days = [\n",
    "        days for days in weekdays\n",
    "        if corresponding_days_to_speciality[days.weekday()] == picked_a_speciality\n",
    "        and len(booked_slots.get(days,[])) < len(clinic_hours)\n",
    "    ]\n",
    "    \n",
    "    #Formatting date\n",
    "    date_format =[(days.strftime(\"%A, %b %d %Y\"), days) for days in matching_days]\n",
    "    date_selection.options = date_format\n",
    "   \n",
    "    #displaying date dropdown\n",
    "    with output_date:\n",
    "        print('') # to add space for clear visuals\n",
    "        print('Please select your desired appointment date:')\n",
    "        display(date_selection)  \n",
    "\n",
    "#defining a function when a date is picked\n",
    "def on_pick_a_date(change):\n",
    "    picked_a_date = date_selection.value\n",
    "    if picked_a_date:\n",
    "        booked_hours = booked_slots.get(picked_a_date, [])\n",
    "        available_hours = [hour for hour in clinic_hours if hour not in booked_hours]\n",
    "        formatted_hours = [(f\"{hour:02d}:00\", hour) for hour in available_hours]\n",
    "        time_selection.options = formatted_hours\n",
    "        time_selection.value = None # resetting time selection\n",
    "        output_time.clear_output()\n",
    "        output_confirmation.clear_output()\n",
    "        #displaying time dropdown\n",
    "        with output_time:\n",
    "            print('') # to add space for clear visuals\n",
    "            print('Please select your desired appointment time:')\n",
    "            display(time_selection)\n",
    "\n",
    "#defining a function when a time is picked\n",
    "def on_pick_a_time(change):\n",
    "    picked_a_time = change.new\n",
    "    if picked_a_time:\n",
    "        output_confirmation.clear_output()\n",
    "        #displaying confirmation buttons\n",
    "        with output_confirmation:\n",
    "            print('') # to add space for clear visuals\n",
    "            print('Please confirm your appointment')\n",
    "            display(confirmation_buttons)\n",
    "\n",
    "#defining a function when confirm button is clicked\n",
    "def on_confirm_click(confirm):\n",
    "# define date selection value\n",
    "    reserved_date = date_selection.value\n",
    "    reserved_time = time_selection.value\n",
    "    patient_number = patient_number_input.value.strip().upper()\n",
    "    if reserved_date and reserved_time is not None:\n",
    "        output_confirm.clear_output()\n",
    "        if patient_number in booked:\n",
    "            existing_date, existing_time = booked[patient_number]\n",
    "            with output_confirm:\n",
    "                print(f'You already have an appointment on {existing_date} at {existing_time}:00.')\n",
    "        else:\n",
    "            booked[patient_number] = (reserved_date, reserved_time)\n",
    "            if reserved_date in booked_slots:\n",
    "                booked_slots[reserved_date].append(reserved_time)\n",
    "            else:\n",
    "                booked_slots[reserved_date] = [reserved_time]\n",
    "\n",
    "            clear_all()\n",
    "            #Clear the patient number input after successful booking\n",
    "            patient_number_input.value = ''\n",
    "            with output_confirm:\n",
    "                print(f'Appointment successfully booked for {patient_number} on {reserved_date} at {reserved_time}:00.')\n",
    "\n",
    "#defining a function when cancel button is clicked\n",
    "def on_cancel_click(cancel):\n",
    "    clear_all()"
   ]
  },
  {
   "cell_type": "markdown",
   "id": "66886796-753b-483a-8331-0bb94b6cb688",
   "metadata": {},
   "source": [
    "# Section 8: Function for Resetting/Clearing Sections and Outputs\n",
    "\n",
    "    - Function to reset dropdown selections and clear displayed messages after actions."
   ]
  },
  {
   "cell_type": "code",
   "execution_count": 70,
   "id": "5e698e58-451d-4307-978b-37df6f6b8527",
   "metadata": {},
   "outputs": [],
   "source": [
    "#clear all function\n",
    "def clear_all():\n",
    "    output_speciality.clear_output()\n",
    "    speciality_selection.value = ''\n",
    "    output_date.clear_output()\n",
    "    date_selection.options = []\n",
    "    date_selection.value = None\n",
    "    output_time.clear_output()\n",
    "    time_selection.options = []\n",
    "    time_selection.value = None\n",
    "    output_confirmation.clear_output()\n",
    "    output_confirm.clear_output()"
   ]
  },
  {
   "cell_type": "markdown",
   "id": "bf3653f0-9648-46a7-a795-90eb77629259",
   "metadata": {},
   "source": [
    "# Section 9: Observer - Selection and Clicks\n",
    "\n",
    "    - Linking widgets to their corresponding handlers to make the interface interactive."
   ]
  },
  {
   "cell_type": "code",
   "execution_count": 71,
   "id": "3e14a32f-0a73-4540-93a2-9dbc2380eefa",
   "metadata": {},
   "outputs": [],
   "source": [
    "#observing selections\n",
    "book_button.on_click(on_book_click)\n",
    "speciality_selection.observe(on_pick_a_speciality, names = 'value')\n",
    "date_selection.observe(on_pick_a_date, names='value')\n",
    "time_selection.observe(on_pick_a_time, names='value')\n",
    "confirm_button.on_click(on_confirm_click)\n",
    "cancel_button.on_click(on_cancel_click)"
   ]
  },
  {
   "cell_type": "markdown",
   "id": "d1d83ae7-6ff9-401a-a3ad-bee4554a8a8c",
   "metadata": {},
   "source": [
    "# Section 10: Outputs - Print & Display\n",
    "\n",
    "    - Welcome message!\n",
    "    - Instructions to render the interactive interface in Jupyter.\n",
    "### Challenges\n",
    "\n",
    "    - Final on challenges: I had a struggle with typos, forgetting to add parantheses, which was causing a lot of errors."
   ]
  },
  {
   "cell_type": "code",
   "execution_count": 72,
   "id": "fe2abf06-f3d2-4da0-85ca-4ecd25bd924f",
   "metadata": {
    "scrolled": true
   },
   "outputs": [
    {
     "name": "stdout",
     "output_type": "stream",
     "text": [
      "Welcome to SRH Hospital Appointment Booking System\n",
      "\n",
      "Please enter your patient number and click \"Book\"\n"
     ]
    },
    {
     "data": {
      "application/vnd.jupyter.widget-view+json": {
       "model_id": "780a800bda594ce887d3994e11b933b3",
       "version_major": 2,
       "version_minor": 0
      },
      "text/plain": [
       "VBox(children=(HBox(children=(Text(value='', placeholder='Enter patient number', style=TextStyle(description_w…"
      ]
     },
     "metadata": {},
     "output_type": "display_data"
    },
    {
     "data": {
      "application/vnd.jupyter.widget-view+json": {
       "model_id": "552eacd5c3c0481b896e3a3204b8fb4c",
       "version_major": 2,
       "version_minor": 0
      },
      "text/plain": [
       "Output()"
      ]
     },
     "metadata": {},
     "output_type": "display_data"
    },
    {
     "data": {
      "application/vnd.jupyter.widget-view+json": {
       "model_id": "505efb1981b54e79ba00c0f4282d092c",
       "version_major": 2,
       "version_minor": 0
      },
      "text/plain": [
       "Output()"
      ]
     },
     "metadata": {},
     "output_type": "display_data"
    },
    {
     "data": {
      "application/vnd.jupyter.widget-view+json": {
       "model_id": "2a6355e20bb84a8eb6461402782b0029",
       "version_major": 2,
       "version_minor": 0
      },
      "text/plain": [
       "Output()"
      ]
     },
     "metadata": {},
     "output_type": "display_data"
    },
    {
     "data": {
      "application/vnd.jupyter.widget-view+json": {
       "model_id": "d259c1c5b6994fd281c07aebd1dd58ca",
       "version_major": 2,
       "version_minor": 0
      },
      "text/plain": [
       "Output()"
      ]
     },
     "metadata": {},
     "output_type": "display_data"
    },
    {
     "data": {
      "application/vnd.jupyter.widget-view+json": {
       "model_id": "2a974fc63462491fb40454ed2c77a5e3",
       "version_major": 2,
       "version_minor": 0
      },
      "text/plain": [
       "Output()"
      ]
     },
     "metadata": {},
     "output_type": "display_data"
    }
   ],
   "source": [
    " #displaying outputs\n",
    "print('Welcome to SRH Hospital Appointment Booking System')\n",
    "print('')\n",
    "print('Please enter your patient number and click \"Book\"')\n",
    "display(input_section, output_speciality, output_date, output_time, output_confirmation, output_confirm)"
   ]
  },
  {
   "cell_type": "code",
   "execution_count": null,
   "id": "46b7abb1-8cee-411b-ad45-97d670148589",
   "metadata": {},
   "outputs": [],
   "source": []
  }
 ],
 "metadata": {
  "kernelspec": {
   "display_name": "Python 3 (ipykernel)",
   "language": "python",
   "name": "python3"
  },
  "language_info": {
   "codemirror_mode": {
    "name": "ipython",
    "version": 3
   },
   "file_extension": ".py",
   "mimetype": "text/x-python",
   "name": "python",
   "nbconvert_exporter": "python",
   "pygments_lexer": "ipython3",
   "version": "3.13.1"
  }
 },
 "nbformat": 4,
 "nbformat_minor": 5
}
